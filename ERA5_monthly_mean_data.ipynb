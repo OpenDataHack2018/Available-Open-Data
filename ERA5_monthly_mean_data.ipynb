{
 "cells": [
  {
   "cell_type": "code",
   "execution_count": 1,
   "metadata": {
    "collapsed": true
   },
   "outputs": [],
   "source": [
    "%matplotlib inline\n",
    "from datetime import date\n",
    "import pandas as pd\n",
    "import matplotlib.pyplot as plt"
   ]
  },
  {
   "cell_type": "code",
   "execution_count": 2,
   "metadata": {},
   "outputs": [
    {
     "name": "stdout",
     "output_type": "stream",
     "text": [
      "                  city   city_ascii        lat        lng       pop  \\\n",
      "city_id                                                               \n",
      "1        Qal eh-ye Now    Qal eh-ye  34.983000  63.133300    2997.0   \n",
      "2          Chaghcharan  Chaghcharan  34.516701  65.250001   15000.0   \n",
      "3          Lashkar Gah  Lashkar Gah  31.582998  64.360000  201546.0   \n",
      "4               Zaranj       Zaranj  31.112001  61.886998   49851.0   \n",
      "5           Tarin Kowt   Tarin Kowt  32.633298  65.866699   10000.0   \n",
      "\n",
      "             country iso2 iso3 province  \n",
      "city_id                                  \n",
      "1        Afghanistan   AF  AFG  Badghis  \n",
      "2        Afghanistan   AF  AFG     Ghor  \n",
      "3        Afghanistan   AF  AFG  Hilmand  \n",
      "4        Afghanistan   AF  AFG   Nimroz  \n",
      "5        Afghanistan   AF  AFG  Uruzgan  \n"
     ]
    }
   ],
   "source": [
    "locations = pd.read_csv('C3S/ERA5/simplemaps-worldcities-basic-with-index.csv',\n",
    "        index_col = ['city_id'] )\n",
    "print(locations.head())"
   ]
  },
  {
   "cell_type": "code",
   "execution_count": 3,
   "metadata": {},
   "outputs": [
    {
     "data": {
      "text/html": [
       "<div>\n",
       "<table border=\"1\" class=\"dataframe\">\n",
       "  <thead>\n",
       "    <tr style=\"text-align: right;\">\n",
       "      <th></th>\n",
       "      <th>city</th>\n",
       "      <th>city_ascii</th>\n",
       "      <th>lat</th>\n",
       "      <th>lng</th>\n",
       "      <th>pop</th>\n",
       "      <th>country</th>\n",
       "      <th>iso2</th>\n",
       "      <th>iso3</th>\n",
       "      <th>province</th>\n",
       "    </tr>\n",
       "    <tr>\n",
       "      <th>city_id</th>\n",
       "      <th></th>\n",
       "      <th></th>\n",
       "      <th></th>\n",
       "      <th></th>\n",
       "      <th></th>\n",
       "      <th></th>\n",
       "      <th></th>\n",
       "      <th></th>\n",
       "      <th></th>\n",
       "    </tr>\n",
       "  </thead>\n",
       "  <tbody>\n",
       "    <tr>\n",
       "      <th>6257</th>\n",
       "      <td>Reading</td>\n",
       "      <td>Reading</td>\n",
       "      <td>51.469971</td>\n",
       "      <td>-0.980028</td>\n",
       "      <td>257752.0</td>\n",
       "      <td>United Kingdom</td>\n",
       "      <td>GB</td>\n",
       "      <td>GBR</td>\n",
       "      <td>Oxfordshire</td>\n",
       "    </tr>\n",
       "  </tbody>\n",
       "</table>\n",
       "</div>"
      ],
      "text/plain": [
       "            city city_ascii        lat       lng       pop         country  \\\n",
       "city_id                                                                      \n",
       "6257     Reading    Reading  51.469971 -0.980028  257752.0  United Kingdom   \n",
       "\n",
       "        iso2 iso3     province  \n",
       "city_id                         \n",
       "6257      GB  GBR  Oxfordshire  "
      ]
     },
     "execution_count": 3,
     "metadata": {},
     "output_type": "execute_result"
    }
   ],
   "source": [
    "city = 'Reading'\n",
    "locations[locations['city_ascii'].str.contains(city)]"
   ]
  },
  {
   "cell_type": "code",
   "execution_count": 7,
   "metadata": {
    "collapsed": true
   },
   "outputs": [],
   "source": [
    "city_id = 6257 # Reading\n",
    "param = '2t'\n",
    "x = []\n",
    "y = []"
   ]
  },
  {
   "cell_type": "code",
   "execution_count": 8,
   "metadata": {},
   "outputs": [],
   "source": [
    "for year in range(2008, 2018):\n",
    "    path = 'C3S/ERA5/era5-sample-data_final_%d.csv' % year\n",
    "    data_ = pd.read_csv(path)\n",
    "    for month in range(1, 13):\n",
    "        year_and_month = year * 100 + month\n",
    "        x.append(date(year, month, 15))\n",
    "        data = data_.loc[(data_['city_id'] == city_id)\n",
    "                & (data_['month'] == year_and_month)]\n",
    "        #print('%d: %f' % (year_and_month, data[param] - 273.15))\n",
    "        y.append(data.iloc[0][param] - 273.15)"
   ]
  },
  {
   "cell_type": "code",
   "execution_count": 9,
   "metadata": {},
   "outputs": [
    {
     "data": {
      "image/png": "[encoded data removed]",
      "text/plain": [
       "<Figure size 432x288 with 1 Axes>"
      ]
     },
     "metadata": {},
     "output_type": "display_data"
    }
   ],
   "source": [
    "fig, ax = plt.subplots()\n",
    "ax.set_ylim([-10, 30])\n",
    "ax.set_ylabel('Temperature ($^\\circ$C)')\n",
    "ax.plot_date(x, y, '-o')\n",
    "plt.title('Monthly average 2m temperature, Reading, UK')\n",
    "plt.show()"
   ]
  }
 ],
 "metadata": {
  "kernelspec": {
   "display_name": "Python 2",
   "language": "python",
   "name": "python2"
  },
  "language_info": {
   "codemirror_mode": {
    "name": "ipython",
    "version": 2
   },
   "file_extension": ".py",
   "mimetype": "text/x-python",
   "name": "python",
   "nbconvert_exporter": "python",
   "pygments_lexer": "ipython2",
   "version": "2.7.12"
  }
 },
 "nbformat": 4,
 "nbformat_minor": 2
}
