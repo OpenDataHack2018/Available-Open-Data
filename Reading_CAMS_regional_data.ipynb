{
 "cells": [
  {
   "cell_type": "code",
   "execution_count": 28,
   "metadata": {},
   "outputs": [],
   "source": [
    "%matplotlib inline\n",
    "\n",
    "from datetime import datetime, date, time\n",
    "import pandas as pd\n",
    "import numpy as np\n",
    "\n",
    "import matplotlib\n",
    "import matplotlib.pyplot as plt"
   ]
  },
  {
   "cell_type": "code",
   "execution_count": 17,
   "metadata": {},
   "outputs": [
    {
     "name": "stdout",
     "output_type": "stream",
     "text": [
      "4826 CAMS/regional/CAMS_WEB_FORECAST_20180510_D+1.csv.gz\r\n"
     ]
    }
   ],
   "source": [
    "DATE='20180510'\n",
    "DPLUS=1\n",
    "datafile = 'CAMS/regional/CAMS_WEB_FORECAST_%s_D+%d.csv.gz'\n",
    "station_locations = 'CAMS/regional/CAMS_WEB_LOCATIONS_V1.csv'\n",
    "path = datafile % (DATE, DPLUS)\n",
    "!wc -l $path"
   ]
  },
  {
   "cell_type": "markdown",
   "metadata": {},
   "source": [
    "Let's read the metadata information"
   ]
  },
  {
   "cell_type": "code",
   "execution_count": 19,
   "metadata": {},
   "outputs": [
    {
     "data": {
      "text/html": [
       "<div>\n",
       "<table border=\"1\" class=\"dataframe\">\n",
       "  <thead>\n",
       "    <tr style=\"text-align: right;\">\n",
       "      <th></th>\n",
       "      <th>ID</th>\n",
       "      <th>Name</th>\n",
       "      <th>Country</th>\n",
       "      <th>Latitude</th>\n",
       "      <th>Longitude</th>\n",
       "    </tr>\n",
       "  </thead>\n",
       "  <tbody>\n",
       "    <tr>\n",
       "      <th>0</th>\n",
       "      <td>AMXX0003</td>\n",
       "      <td>Yerevan</td>\n",
       "      <td>Armenia</td>\n",
       "      <td>40.13</td>\n",
       "      <td>44.47</td>\n",
       "    </tr>\n",
       "    <tr>\n",
       "      <th>1</th>\n",
       "      <td>AMXX0001</td>\n",
       "      <td>Abovyan</td>\n",
       "      <td>Armenia</td>\n",
       "      <td>40.17</td>\n",
       "      <td>44.58</td>\n",
       "    </tr>\n",
       "    <tr>\n",
       "      <th>2</th>\n",
       "      <td>AMXX0002</td>\n",
       "      <td>Gyumri</td>\n",
       "      <td>Armenia</td>\n",
       "      <td>40.79</td>\n",
       "      <td>43.84</td>\n",
       "    </tr>\n",
       "    <tr>\n",
       "      <th>3</th>\n",
       "      <td>AUXX0097</td>\n",
       "      <td>Mattersburg</td>\n",
       "      <td>Austria</td>\n",
       "      <td>47.73</td>\n",
       "      <td>16.40</td>\n",
       "    </tr>\n",
       "    <tr>\n",
       "      <th>4</th>\n",
       "      <td>AUXX0100</td>\n",
       "      <td>Gussing</td>\n",
       "      <td>Austria</td>\n",
       "      <td>47.07</td>\n",
       "      <td>16.33</td>\n",
       "    </tr>\n",
       "  </tbody>\n",
       "</table>\n",
       "</div>"
      ],
      "text/plain": [
       "         ID         Name  Country  Latitude  Longitude\n",
       "0  AMXX0003      Yerevan  Armenia     40.13      44.47\n",
       "1  AMXX0001      Abovyan  Armenia     40.17      44.58\n",
       "2  AMXX0002       Gyumri  Armenia     40.79      43.84\n",
       "3  AUXX0097  Mattersburg  Austria     47.73      16.40\n",
       "4  AUXX0100      Gussing  Austria     47.07      16.33"
      ]
     },
     "execution_count": 19,
     "metadata": {},
     "output_type": "execute_result"
    }
   ],
   "source": [
    "locations = pd.read_csv(station_locations)\n",
    "locations.head()"
   ]
  },
  {
   "cell_type": "markdown",
   "metadata": {},
   "source": [
    "Find location ID of the city we are interested in"
   ]
  },
  {
   "cell_type": "code",
   "execution_count": 20,
   "metadata": {},
   "outputs": [
    {
     "data": {
      "text/html": [
       "<div>\n",
       "<table border=\"1\" class=\"dataframe\">\n",
       "  <thead>\n",
       "    <tr style=\"text-align: right;\">\n",
       "      <th></th>\n",
       "      <th>ID</th>\n",
       "      <th>Name</th>\n",
       "      <th>Country</th>\n",
       "      <th>Latitude</th>\n",
       "      <th>Longitude</th>\n",
       "    </tr>\n",
       "  </thead>\n",
       "  <tbody>\n",
       "    <tr>\n",
       "      <th>653</th>\n",
       "      <td>FRXX0077</td>\n",
       "      <td>Paris-Charles-De-Gaulle</td>\n",
       "      <td>France</td>\n",
       "      <td>48.87</td>\n",
       "      <td>2.33</td>\n",
       "    </tr>\n",
       "    <tr>\n",
       "      <th>710</th>\n",
       "      <td>FRXX0076</td>\n",
       "      <td>Paris</td>\n",
       "      <td>France</td>\n",
       "      <td>48.73</td>\n",
       "      <td>2.40</td>\n",
       "    </tr>\n",
       "  </tbody>\n",
       "</table>\n",
       "</div>"
      ],
      "text/plain": [
       "           ID                     Name Country  Latitude  Longitude\n",
       "653  FRXX0077  Paris-Charles-De-Gaulle  France     48.87       2.33\n",
       "710  FRXX0076                    Paris  France     48.73       2.40"
      ]
     },
     "execution_count": 20,
     "metadata": {},
     "output_type": "execute_result"
    }
   ],
   "source": [
    "city = 'Paris'\n",
    "locations[locations['Name'].str.contains(city)]"
   ]
  },
  {
   "cell_type": "markdown",
   "metadata": {},
   "source": [
    "Read air quality forecast data file"
   ]
  },
  {
   "cell_type": "code",
   "execution_count": 22,
   "metadata": {},
   "outputs": [
    {
     "data": {
      "text/html": [
       "<div>\n",
       "<table border=\"1\" class=\"dataframe\">\n",
       "  <thead>\n",
       "    <tr style=\"text-align: right;\">\n",
       "      <th></th>\n",
       "      <th></th>\n",
       "      <th>AQI</th>\n",
       "      <th>O3</th>\n",
       "      <th>NO2</th>\n",
       "      <th>SO2</th>\n",
       "      <th>CO</th>\n",
       "      <th>PM10</th>\n",
       "      <th>PM25</th>\n",
       "    </tr>\n",
       "    <tr>\n",
       "      <th>ID</th>\n",
       "      <th>Date_Time</th>\n",
       "      <th></th>\n",
       "      <th></th>\n",
       "      <th></th>\n",
       "      <th></th>\n",
       "      <th></th>\n",
       "      <th></th>\n",
       "      <th></th>\n",
       "    </tr>\n",
       "  </thead>\n",
       "  <tbody>\n",
       "    <tr>\n",
       "      <th rowspan=\"5\" valign=\"top\">ALXX0001</th>\n",
       "      <th>2018-05-11 01:00:00</th>\n",
       "      <td>2</td>\n",
       "      <td>49.31</td>\n",
       "      <td>2.23</td>\n",
       "      <td>0.96</td>\n",
       "      <td>160.87</td>\n",
       "      <td>12.79</td>\n",
       "      <td>11.84</td>\n",
       "    </tr>\n",
       "    <tr>\n",
       "      <th>2018-05-11 02:00:00</th>\n",
       "      <td>2</td>\n",
       "      <td>47.74</td>\n",
       "      <td>1.91</td>\n",
       "      <td>0.94</td>\n",
       "      <td>161.70</td>\n",
       "      <td>13.38</td>\n",
       "      <td>11.97</td>\n",
       "    </tr>\n",
       "    <tr>\n",
       "      <th>2018-05-11 03:00:00</th>\n",
       "      <td>2</td>\n",
       "      <td>46.72</td>\n",
       "      <td>1.64</td>\n",
       "      <td>0.93</td>\n",
       "      <td>162.34</td>\n",
       "      <td>13.64</td>\n",
       "      <td>11.91</td>\n",
       "    </tr>\n",
       "    <tr>\n",
       "      <th>2018-05-11 04:00:00</th>\n",
       "      <td>2</td>\n",
       "      <td>44.59</td>\n",
       "      <td>1.46</td>\n",
       "      <td>1.10</td>\n",
       "      <td>163.71</td>\n",
       "      <td>14.06</td>\n",
       "      <td>11.78</td>\n",
       "    </tr>\n",
       "    <tr>\n",
       "      <th>2018-05-11 05:00:00</th>\n",
       "      <td>2</td>\n",
       "      <td>52.69</td>\n",
       "      <td>1.74</td>\n",
       "      <td>1.30</td>\n",
       "      <td>165.78</td>\n",
       "      <td>14.29</td>\n",
       "      <td>11.01</td>\n",
       "    </tr>\n",
       "  </tbody>\n",
       "</table>\n",
       "</div>"
      ],
      "text/plain": [
       "                              AQI     O3   NO2   SO2      CO   PM10   PM25\n",
       "ID       Date_Time                                                        \n",
       "ALXX0001 2018-05-11 01:00:00    2  49.31  2.23  0.96  160.87  12.79  11.84\n",
       "         2018-05-11 02:00:00    2  47.74  1.91  0.94  161.70  13.38  11.97\n",
       "         2018-05-11 03:00:00    2  46.72  1.64  0.93  162.34  13.64  11.91\n",
       "         2018-05-11 04:00:00    2  44.59  1.46  1.10  163.71  14.06  11.78\n",
       "         2018-05-11 05:00:00    2  52.69  1.74  1.30  165.78  14.29  11.01"
      ]
     },
     "execution_count": 22,
     "metadata": {},
     "output_type": "execute_result"
    }
   ],
   "source": [
    "aq_data = pd.read_csv(path, index_col=['ID', 'Date_Time'], parse_dates=[['Date','Time']] )\n",
    "aq_data.head()"
   ]
  },
  {
   "cell_type": "code",
   "execution_count": 29,
   "metadata": {},
   "outputs": [
    {
     "data": {
      "text/plain": [
       "<matplotlib.axes._subplots.AxesSubplot at 0x7f80eed70d90>"
      ]
     },
     "execution_count": 29,
     "metadata": {},
     "output_type": "execute_result"
    },
    {
     "data": {
      "image/png": "[encoded data removed]",
      "text/plain": [
       "<matplotlib.figure.Figure at 0x7f80f7a3db10>"
      ]
     },
     "metadata": {},
     "output_type": "display_data"
    }
   ],
   "source": [
    "aq_data.loc['FRXX0077'].plot()"
   ]
  }
 ],
 "metadata": {
  "kernelspec": {
   "display_name": "Python 2",
   "language": "python",
   "name": "python2"
  },
  "language_info": {
   "codemirror_mode": {
    "name": "ipython",
    "version": 2
   },
   "file_extension": ".py",
   "mimetype": "text/x-python",
   "name": "python",
   "nbconvert_exporter": "python",
   "pygments_lexer": "ipython2",
   "version": "2.7.12"
  }
 },
 "nbformat": 4,
 "nbformat_minor": 2
}
